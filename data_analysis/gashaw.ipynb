{
 "cells": [
  {
   "cell_type": "code",
   "execution_count": 33,
   "id": "77a214d8-32ad-40e1-bb99-7c9933f151b5",
   "metadata": {},
   "outputs": [],
   "source": [
    "import pandas\n",
    "import os"
   ]
  },
  {
   "cell_type": "code",
   "execution_count": 2,
   "id": "c8e2e31c-b572-44db-9766-54a768d373b3",
   "metadata": {},
   "outputs": [],
   "source": [
    "df1=pandas.read_csv(\"C:\\\\Users\\\\ggashaw\\\\Downloads\\\\gashaw.csv\")"
   ]
  },
  {
   "cell_type": "code",
   "execution_count": 17,
   "id": "60a2b749-e627-45b5-a819-9cee873200ea",
   "metadata": {},
   "outputs": [
    {
     "ename": "NameError",
     "evalue": "name 'df1' is not defined",
     "output_type": "error",
     "traceback": [
      "\u001b[1;31m---------------------------------------------------------------------------\u001b[0m",
      "\u001b[1;31mNameError\u001b[0m                                 Traceback (most recent call last)",
      "Cell \u001b[1;32mIn[17], line 1\u001b[0m\n\u001b[1;32m----> 1\u001b[0m \u001b[43mdf1\u001b[49m\n",
      "\u001b[1;31mNameError\u001b[0m: name 'df1' is not defined"
     ]
    }
   ],
   "source": [
    "df1"
   ]
  },
  {
   "cell_type": "code",
   "execution_count": 44,
   "id": "efd8c875-f288-480b-9d29-297048921067",
   "metadata": {},
   "outputs": [
    {
     "name": "stdout",
     "output_type": "stream",
     "text": [
      "Files in Downloads directory: ['02chapter2 (1) (1).pdf', '02chapter2 (1).pdf', '051c8e59ce89ee9669b1976987add375721b7a7a.docx', '1445546373.htm', '3270.pdf', '40-alx-aice-ai-career-essentials-certificate-gashaw-gedef.png', '9780134855684_DSAPCode', '9780134855684_DSAPCode.zip', 'A1714655310102.jpg', 'add.ctp', 'admsci-11-00076 (1).pdf', 'admsci-11-00076.pdf', 'AES Print Haymanot.pdf', 'anthra.png', 'Assets', 'aveghseo,+01_PPSO_15879_P.pdf', 'b24066dd3c94d3f57892b7b8a6b9d39da0076e1c.docx', 'Beginning Node.js.pdf', 'Burite ye16 (1).docx', 'Burite ye16 commint.docx', 'Burite ye16 final.docx', 'Burite ye16.docx', 'ch 1 source (1).pdf', 'ch 1 source (2).pdf', 'ch 1 source.pdf', 'chapter 3.docx', 'Chapter_14.pdf', 'Compressed', 'Cover letter.docx', 'desktop.ini', 'develop icon for sof.jpg', 'Develop Software Sol (1).jpg', 'Develop Software Sol (2).jpg', 'Develop Software Sol (3).jpg', 'Develop Software Sol.jpg', 'developer certificate_page-0001.jpg', 'dms_messages_controller.php', 'Docker Desktop Installer.exe', 'Documents', 'Drivers Summary  Report.xls', 'Ecommerce_Frontend_Assets.zip', 'eep-exp.jpg', 'Effects_Of_Emotional_Intelligence_On_Job_Satisfact.pdf', 'Effect_Of_Emotional_Intelligence_On_Organizational.pdf', 'emo.docx', 'emotional inteligence.pdf', 'EN21Inst.exe', 'eth_adminboundaries_tabulardata.xlsx', 'FILE_OPEN_8844_ṔAṨṨCOḒE_SETUP (1)', 'FILE_OPEN_8844_ṔAṨṨCOḒE_SETUP (1).rar', 'FILE_OPEN_8844_ṔAṨṨCOḒE_SETUP.rar', 'Final CV Excellerent.pdf', 'FreeCourseSite.com-Udemy - Complete Data Structures and Algorithms Software Interviews.torrent', 'FreeCourseSite.com-Udemy - Java Data Structures and Algorithms Masterclass.torrent', 'FreeCourseSite.com-Udemy - Master Coding Interview _Data structures + Algorithms.torrent', 'FreeCourseSite.com-Udemy - Python Mega Course Go Beginner to Expert in Python3 (1).torrent', 'FreeCourseSite.com-Udemy - Python Mega Course Go Beginner to Expert in Python3.torrent', 'FreeCourseSite.com-Udemy - React Development Masterclass Build 30 Powerful Projects.torrent', 'functions.txt', 'Gashaw final Resume for Awash.docx', 'Gashaw final Resume for Awash1.docx', 'Gashaw Gedef  (1).pdf', 'Gashaw Gedef .pdf', 'Gashaw Gedef Shibabaw.pdf', 'Gashaw tempo.jpg', 'gashaw.csv', 'gashaw.jpg', 'gashaw1.jpg', 'ghgh.jpg', 'Git-2.42.0.2-64-bit.exe', 'github-recovery-codes.txt', 'Give me image woman.jpg', 'Guideline in writing Research Proposal at Pg level (1).ppt', 'Guideline in writing Research Proposal at Pg level.ppt', 'haarcascade_frontalface_default (1).xml', 'haarcascade_frontalface_default.xml', 'idman641build20.exe', 'imageedit_1_9796668885.jpg', 'IMG_20240504_090745_534.jpg', 'IMG_20240504_090745_768.jpg', 'IMG_20240504_090746_000.jpg', 'IMG_20240504_090746_127.jpg', 'IMG_20240504_090746_179.jpg', 'ims_requisitions', 'ims_requisitions.rar', 'Incidents.xlsx', 'input000.txt', 'JuliusImage.png', 'kda-circle.jpg', 'kda-flat.jpg', 'Kelly', 'Kelly.zip', 'LawrenceTrothJordanCollins2011.pdf', 'list_data.ctp', 'Map-of-Amhara-region-A-Dabat-woreda-B-and-study-area-C.png', 'materialpro-react-lite-master.zip', 'Melkamu Tessema.pdf', 'members (1).xlsx', 'members (2).xlsx', 'members.xlsx', 'mendeley-reference-manager-2.107.0-x64.exe', 'MIHRET MEGABIAW SHIBABAW.pdf', 'mongodb-windows-x86_64-6.0.4-signed.msi', 'msg6137593454-10383.jpg', 'Music', 'nextjs_13_assets', 'nextjs_13_assets.zip', 'NiceAdmin', 'NiceAdmin.zip', 'node-v18.18.2-x64.msi', 'OurCRMSystemV2', 'OurCRMSystemV2 (1).zip', 'OurCRMSystemV2.zip', 'photo1705994692.jpeg', 'Postman-win64-Setup.exe', 'Practical Node.js Building Real-World Scalable Web Apps.pdf', 'profile.jpg', 'Programs', 'Progress.docx', 'Proposal Birtukan KibretMBA.docx', 'Proposal final birtukan (1).docx', 'Proposal final birtukan.docx', 'Proposal final birtukanMBA (1).docx', 'Proposal final birtukanMBA.docx', 'python-3.12.0-amd64 (1).exe', 'python-3.12.0-amd64.exe', 'python_basic certificate.pdf', 'Receipt_from_Chapa_#APAd07ok9kOD.pdf', 'record.mp4', 'Repetations.xlsx', 'rezume.pdf', 'Self-Management_and_its_Relation_to_Organizational.pdf', 'software engneering subjective question.pdf', 'sorce.pdf', 'SSRN-id3880356 (1).pdf', 'SSRN-id3880356.pdf', 'supported_browsers.htm', 'supported_browsers_2.htm', 'TSEDEY AYELE.pdf', 'tt.docx', 'unnamed (1).jpg', 'unnamed.jpg', 'userGuide.pdf', 'Vacancy for Senior Hardware & Software Officer.docx', 'vecteezy_abstract-techno-banner-with-a-binary-code-design_829812.zip', 'Video', 'VisualStudioSetup.exe', 'vlc-3.0.19-win32.exe', 'VSCodeUserSetup-x64-1.83.1.exe', 'vs_BuildTools.exe', 'wampserver2.2a-x32.exe', 'wampserver2.2e-php5.4.3-httpd-2.4.2-mysql5.5.24-x64 (1).exe', 'wampserver2.2e-php5.4.3-httpd-2.4.2-mysql5.5.24-x64.exe', 'WavesAudio.MaxxAudioProforDell2020_fh4rh281wavaa!App', 'White with Photo Business Card Landscape.jpg', 'writing_a_proposal1 (1).pdf', 'writing_a_proposal1.pdf', '_Getintopc.com_Internet_Download_Manager_6.41_Build_3', '_Getintopc.com_Internet_Download_Manager_6.41_Build_3.rar', 'አጠቃላይ መመዘኛ .pdf']\n"
     ]
    },
    {
     "ename": "NameError",
     "evalue": "name 'pd' is not defined",
     "output_type": "error",
     "traceback": [
      "\u001b[1;31m---------------------------------------------------------------------------\u001b[0m",
      "\u001b[1;31mNameError\u001b[0m                                 Traceback (most recent call last)",
      "Cell \u001b[1;32mIn[44], line 13\u001b[0m\n\u001b[0;32m      9\u001b[0m file_path \u001b[38;5;241m=\u001b[39m os\u001b[38;5;241m.\u001b[39mpath\u001b[38;5;241m.\u001b[39mjoin(downloads_path, file_name)\n\u001b[0;32m     11\u001b[0m \u001b[38;5;28;01mif\u001b[39;00m file_name \u001b[38;5;129;01min\u001b[39;00m files:\n\u001b[0;32m     12\u001b[0m     \u001b[38;5;66;03m# Step 5: Load the Excel File if it Exists\u001b[39;00m\n\u001b[1;32m---> 13\u001b[0m     df2 \u001b[38;5;241m=\u001b[39m \u001b[43mpd\u001b[49m\u001b[38;5;241m.\u001b[39mread_excel(file_path)\n\u001b[0;32m     14\u001b[0m     \u001b[38;5;66;03m# Display the DataFrame\u001b[39;00m\n\u001b[0;32m     15\u001b[0m     display(df2)\n",
      "\u001b[1;31mNameError\u001b[0m: name 'pd' is not defined"
     ]
    }
   ],
   "source": [
    "downloads_path = \"C:\\\\Users\\\\ggashaw\\\\Downloads\"\n",
    "\n",
    "# Step 3: List All Files in the Downloads Directory\n",
    "files = os.listdir(downloads_path)\n",
    "print(\"Files in Downloads directory:\", files)\n",
    "\n",
    "# Step 4: Check if the Excel File Exists\n",
    "file_name = \"Incidents.xlsx\"\n",
    "file_path = os.path.join(downloads_path, file_name)\n",
    "\n",
    "if file_name in files:\n",
    "    # Step 5: Load the Excel File if it Exists\n",
    "    df2 = pd.read_excel(file_path)\n",
    "    # Display the DataFrame\n",
    "    display(df2)\n",
    "else:\n",
    "    print(f\"File '{file_name}' not found in the Downloads directory.\")\n"
   ]
  },
  {
   "cell_type": "code",
   "execution_count": 32,
   "id": "d1ef421c-ff3b-4509-a32c-72b47f7a67df",
   "metadata": {},
   "outputs": [
    {
     "ename": "NameError",
     "evalue": "name 'df2' is not defined",
     "output_type": "error",
     "traceback": [
      "\u001b[1;31m---------------------------------------------------------------------------\u001b[0m",
      "\u001b[1;31mNameError\u001b[0m                                 Traceback (most recent call last)",
      "Cell \u001b[1;32mIn[32], line 1\u001b[0m\n\u001b[1;32m----> 1\u001b[0m \u001b[43mdf2\u001b[49m\n",
      "\u001b[1;31mNameError\u001b[0m: name 'df2' is not defined"
     ]
    }
   ],
   "source": [
    "df2"
   ]
  },
  {
   "cell_type": "code",
   "execution_count": 41,
   "id": "f602ec6a-4192-475d-be0a-952fef8f7968",
   "metadata": {},
   "outputs": [
    {
     "ename": "NameError",
     "evalue": "name 'df2' is not defined",
     "output_type": "error",
     "traceback": [
      "\u001b[1;31m---------------------------------------------------------------------------\u001b[0m",
      "\u001b[1;31mNameError\u001b[0m                                 Traceback (most recent call last)",
      "Cell \u001b[1;32mIn[41], line 1\u001b[0m\n\u001b[1;32m----> 1\u001b[0m \u001b[43mdf2\u001b[49m\n",
      "\u001b[1;31mNameError\u001b[0m: name 'df2' is not defined"
     ]
    }
   ],
   "source": [
    "df2"
   ]
  }
 ],
 "metadata": {
  "kernelspec": {
   "display_name": "Python 3 (ipykernel)",
   "language": "python",
   "name": "python3"
  },
  "language_info": {
   "codemirror_mode": {
    "name": "ipython",
    "version": 3
   },
   "file_extension": ".py",
   "mimetype": "text/x-python",
   "name": "python",
   "nbconvert_exporter": "python",
   "pygments_lexer": "ipython3",
   "version": "3.12.0"
  }
 },
 "nbformat": 4,
 "nbformat_minor": 5
}
