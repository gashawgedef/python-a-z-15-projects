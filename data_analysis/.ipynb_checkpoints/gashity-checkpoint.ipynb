{
 "cells": [
  {
   "cell_type": "code",
   "execution_count": 1,
   "id": "2519e61e-ce59-4eaf-9349-76cd332733c2",
   "metadata": {},
   "outputs": [
    {
     "name": "stdout",
     "output_type": "stream",
     "text": [
      "Welcome Gashaw\n"
     ]
    }
   ],
   "source": [
    "print(\"Welcome Gashaw\")"
   ]
  },
  {
   "cell_type": "code",
   "execution_count": 2,
   "id": "7afb11c8-3f02-4d6f-860e-8aa19209dd9d",
   "metadata": {},
   "outputs": [
    {
     "name": "stdout",
     "output_type": "stream",
     "text": [
      "Welcome Melkamu\n"
     ]
    }
   ],
   "source": [
    "print(\"Welcome Melkamu\")"
   ]
  },
  {
   "cell_type": "code",
   "execution_count": null,
   "id": "17380a64-4cbb-45a6-b127-9bf53b06e33a",
   "metadata": {},
   "outputs": [],
   "source": [
    "import pandas"
   ]
  }
 ],
 "metadata": {
  "kernelspec": {
   "display_name": "Python 3 (ipykernel)",
   "language": "python",
   "name": "python3"
  },
  "language_info": {
   "codemirror_mode": {
    "name": "ipython",
    "version": 3
   },
   "file_extension": ".py",
   "mimetype": "text/x-python",
   "name": "python",
   "nbconvert_exporter": "python",
   "pygments_lexer": "ipython3",
   "version": "3.12.0"
  }
 },
 "nbformat": 4,
 "nbformat_minor": 5
}
